{
 "cells": [
  {
   "cell_type": "markdown",
   "metadata": {},
   "source": [
    "# Softmax exercise\n",
    "\n",
    "*Complete and hand in this completed worksheet (including its outputs and any supporting code outside of the worksheet) with your assignment submission.*\n",
    "\n",
    "In this exercise, you will:\n",
    "\n",
    "- implement a fully-vectorized **loss function** for the Softmax classifier\n",
    "- implement the fully-vectorized expression for its **analytic gradient**\n",
    "- **check your implementation** with numerical gradient\n",
    "- use a validation set to **tune the learning rate and regularization** strength\n",
    "- **optimize** the loss function with **SGD**\n",
    "- **visualize** the final learned weights\n"
   ]
  },
  {
   "cell_type": "markdown",
   "metadata": {},
   "source": [
    "**Acknowledgement: This exercise is adapted from [Stanford CS231n](http://cs231n.stanford.edu/).**"
   ]
  },
  {
   "cell_type": "code",
   "execution_count": 53,
   "metadata": {},
   "outputs": [
    {
     "name": "stdout",
     "output_type": "stream",
     "text": [
      "The autoreload extension is already loaded. To reload it, use:\n",
      "  %reload_ext autoreload\n"
     ]
    }
   ],
   "source": [
    "import random\n",
    "import numpy as np\n",
    "from data_utils import load_CIFAR10\n",
    "import matplotlib.pyplot as plt\n",
    "\n",
    "%matplotlib inline\n",
    "plt.rcParams['figure.figsize'] = (10.0, 8.0) # set default size of plots\n",
    "plt.rcParams['image.interpolation'] = 'nearest'\n",
    "plt.rcParams['image.cmap'] = 'gray'\n",
    "\n",
    "# for auto-reloading extenrnal modules\n",
    "# see http://stackoverflow.com/questions/1907993/autoreload-of-modules-in-ipython\n",
    "%load_ext autoreload\n",
    "%autoreload 2"
   ]
  },
  {
   "cell_type": "code",
   "execution_count": 54,
   "metadata": {},
   "outputs": [],
   "source": [
    "def rel_error(out, correct_out):\n",
    "    return np.sum(abs(out - correct_out) / (abs(out) + abs(correct_out)))"
   ]
  },
  {
   "cell_type": "code",
   "execution_count": 55,
   "metadata": {},
   "outputs": [
    {
     "name": "stdout",
     "output_type": "stream",
     "text": [
      "Train data shape:  (49000, 3073)\n",
      "Train labels shape:  (49000,)\n",
      "Validation data shape:  (1000, 3073)\n",
      "Validation labels shape:  (1000,)\n",
      "Test data shape:  (1000, 3073)\n",
      "Test labels shape:  (1000,)\n",
      "dev data shape:  (500, 3073)\n",
      "dev labels shape:  (500,)\n"
     ]
    }
   ],
   "source": [
    "def get_CIFAR10_data(num_training=49000, num_validation=1000, num_test=1000, num_dev=500):\n",
    "    \"\"\"\n",
    "    Load the CIFAR-10 dataset from disk and perform preprocessing to prepare\n",
    "    it for the linear classifier. These are the same steps as we used for the\n",
    "    Softmax, but condensed to a single function.  \n",
    "    \"\"\"\n",
    "    # Load the raw CIFAR-10 data\n",
    "    cifar10_dir = 'datasets/cifar-10-batches-py'\n",
    "    X_train, y_train, X_test, y_test = load_CIFAR10(cifar10_dir)\n",
    "\n",
    "    # subsample the data\n",
    "    mask = range(num_training, num_training + num_validation)\n",
    "    X_val = X_train[mask]\n",
    "    y_val = y_train[mask]\n",
    "    mask = range(num_training)\n",
    "    X_train = X_train[mask]\n",
    "    y_train = y_train[mask]\n",
    "    mask = range(num_test)\n",
    "    X_test = X_test[mask]\n",
    "    y_test = y_test[mask]\n",
    "    \n",
    "    # # We will also make a development set, which is a small subset of\n",
    "    # the training set.\n",
    "    mask = np.random.choice(num_training, num_dev, replace=False)\n",
    "    X_dev = X_train[mask]\n",
    "    y_dev = y_train[mask]\n",
    "\n",
    "    # Preprocessing: reshape the image data into rows\n",
    "    X_train = np.reshape(X_train, (X_train.shape[0], -1))\n",
    "    X_val = np.reshape(X_val, (X_val.shape[0], -1))\n",
    "    X_test = np.reshape(X_test, (X_test.shape[0], -1))\n",
    "    X_dev = np.reshape(X_dev, (X_dev.shape[0], -1))\n",
    "\n",
    "    # Normalize the data: subtract the mean image\n",
    "    mean_image = np.mean(X_train, axis = 0)\n",
    "    X_train -= mean_image\n",
    "    X_val -= mean_image\n",
    "    X_test -= mean_image\n",
    "    X_dev -= mean_image\n",
    "\n",
    "    # add bias dimension and transform into columns\n",
    "    X_train = np.hstack([X_train, np.ones((X_train.shape[0], 1))])\n",
    "    X_val = np.hstack([X_val, np.ones((X_val.shape[0], 1))])\n",
    "    X_test = np.hstack([X_test, np.ones((X_test.shape[0], 1))])\n",
    "    X_dev = np.hstack([X_dev, np.ones((X_dev.shape[0], 1))])\n",
    "\n",
    "    return X_train, y_train, X_val, y_val, X_test, y_test, X_dev, y_dev\n",
    "\n",
    "\n",
    "# Invoke the above function to get our data.\n",
    "X_train, y_train, X_val, y_val, X_test, y_test, X_dev, y_dev = get_CIFAR10_data()\n",
    "print('Train data shape: ', X_train.shape)\n",
    "print('Train labels shape: ', y_train.shape)\n",
    "print('Validation data shape: ', X_val.shape)\n",
    "print('Validation labels shape: ', y_val.shape)\n",
    "print('Test data shape: ', X_test.shape)\n",
    "print('Test labels shape: ', y_test.shape)\n",
    "print('dev data shape: ', X_dev.shape)\n",
    "print('dev labels shape: ', y_dev.shape)"
   ]
  },
  {
   "cell_type": "code",
   "execution_count": 56,
   "metadata": {},
   "outputs": [],
   "source": [
    "# Create one-hot vectors for label\n",
    "num_class = 10\n",
    "y_train_oh = np.zeros((y_train.shape[0], 10))\n",
    "y_train_oh[np.arange(y_train.shape[0]), y_train] = 1\n",
    "y_val_oh = np.zeros((y_val.shape[0], 10))\n",
    "y_val_oh[np.arange(y_val.shape[0]), y_val] = 1\n",
    "y_test_oh = np.zeros((y_test.shape[0], 10))\n",
    "y_test_oh[np.arange(y_test.shape[0]), y_test] = 1\n",
    "\n",
    "y_dev_oh = np.zeros((y_dev.shape[0], 10))\n",
    "y_dev_oh[np.arange(y_dev.shape[0]), y_dev] = 1"
   ]
  },
  {
   "cell_type": "markdown",
   "metadata": {},
   "source": [
    "# Regression as classifier\n",
    "The most simple and straightforward approach to learn a classifier is to map the input data (raw image values) to class label (one-hot vector). The loss function is defined as following: \n",
    "$$\\mathcal{L}=\\frac{1}{n}\\|\\mathbf{X}\\mathbf{W}-\\mathbf{y}\\|_F^2\\qquad\\qquad(1)$$\n",
    "Where:\n",
    "* $\\mathbf{W}\\in \\mathbb{R}^{(d+1)\\times C}$: Classifier weight\n",
    "* $\\mathbf{X}\\in \\mathbb{R}^{n\\times (d+1)}$: Dataset\n",
    "* $\\mathbf{y}\\in \\mathbb{R}^{n\\times C}$: Class label (one-hot vector)"
   ]
  },
  {
   "cell_type": "markdown",
   "metadata": {},
   "source": [
    "# Optimization\n",
    "Given the loss function (1), the next problem is how to solve the weight $\\mathbf{W}$. We now discuss 2 approaches: \n",
    " * Random search\n",
    " * Closed-form solution\n",
    "\n",
    "## Random search"
   ]
  },
  {
   "cell_type": "code",
   "execution_count": 57,
   "metadata": {},
   "outputs": [
    {
     "name": "stdout",
     "output_type": "stream",
     "text": [
      "in attempt 0 the loss was 33.173511, best 33.173511\n",
      "in attempt 1 the loss was 31.994214, best 31.994214\n",
      "in attempt 2 the loss was 32.176903, best 31.994214\n",
      "in attempt 3 the loss was 33.141919, best 31.994214\n",
      "in attempt 4 the loss was 33.164245, best 31.994214\n",
      "in attempt 5 the loss was 33.949058, best 31.994214\n",
      "in attempt 6 the loss was 32.879778, best 31.994214\n",
      "in attempt 7 the loss was 36.276029, best 31.994214\n",
      "in attempt 8 the loss was 31.736695, best 31.736695\n",
      "in attempt 9 the loss was 33.285585, best 31.736695\n",
      "in attempt 10 the loss was 35.050098, best 31.736695\n",
      "in attempt 11 the loss was 35.124611, best 31.736695\n",
      "in attempt 12 the loss was 33.222178, best 31.736695\n",
      "in attempt 13 the loss was 30.815898, best 30.815898\n",
      "in attempt 14 the loss was 34.014714, best 30.815898\n",
      "in attempt 15 the loss was 33.891533, best 30.815898\n",
      "in attempt 16 the loss was 32.563997, best 30.815898\n",
      "in attempt 17 the loss was 32.619116, best 30.815898\n",
      "in attempt 18 the loss was 36.259351, best 30.815898\n",
      "in attempt 19 the loss was 33.981916, best 30.815898\n",
      "in attempt 20 the loss was 32.194370, best 30.815898\n",
      "in attempt 21 the loss was 32.920580, best 30.815898\n",
      "in attempt 22 the loss was 31.698695, best 30.815898\n",
      "in attempt 23 the loss was 33.837737, best 30.815898\n",
      "in attempt 24 the loss was 37.355116, best 30.815898\n",
      "in attempt 25 the loss was 32.977974, best 30.815898\n",
      "in attempt 26 the loss was 32.836803, best 30.815898\n",
      "in attempt 27 the loss was 33.574063, best 30.815898\n",
      "in attempt 28 the loss was 35.325855, best 30.815898\n",
      "in attempt 29 the loss was 36.695088, best 30.815898\n",
      "in attempt 30 the loss was 35.574048, best 30.815898\n",
      "in attempt 31 the loss was 35.340024, best 30.815898\n",
      "in attempt 32 the loss was 32.955994, best 30.815898\n",
      "in attempt 33 the loss was 36.460917, best 30.815898\n",
      "in attempt 34 the loss was 31.448202, best 30.815898\n",
      "in attempt 35 the loss was 34.309807, best 30.815898\n",
      "in attempt 36 the loss was 33.557752, best 30.815898\n",
      "in attempt 37 the loss was 32.252756, best 30.815898\n",
      "in attempt 38 the loss was 32.870497, best 30.815898\n",
      "in attempt 39 the loss was 32.657002, best 30.815898\n",
      "in attempt 40 the loss was 35.707772, best 30.815898\n",
      "in attempt 41 the loss was 35.262320, best 30.815898\n",
      "in attempt 42 the loss was 33.758648, best 30.815898\n",
      "in attempt 43 the loss was 33.959912, best 30.815898\n",
      "in attempt 44 the loss was 31.720304, best 30.815898\n",
      "in attempt 45 the loss was 31.621100, best 30.815898\n",
      "in attempt 46 the loss was 35.044422, best 30.815898\n",
      "in attempt 47 the loss was 34.404457, best 30.815898\n",
      "in attempt 48 the loss was 33.618379, best 30.815898\n",
      "in attempt 49 the loss was 33.149883, best 30.815898\n",
      "in attempt 50 the loss was 34.498207, best 30.815898\n",
      "in attempt 51 the loss was 33.201052, best 30.815898\n",
      "in attempt 52 the loss was 37.503853, best 30.815898\n",
      "in attempt 53 the loss was 33.406251, best 30.815898\n",
      "in attempt 54 the loss was 35.376598, best 30.815898\n",
      "in attempt 55 the loss was 34.435314, best 30.815898\n",
      "in attempt 56 the loss was 32.429090, best 30.815898\n",
      "in attempt 57 the loss was 36.050613, best 30.815898\n",
      "in attempt 58 the loss was 34.572529, best 30.815898\n",
      "in attempt 59 the loss was 32.353514, best 30.815898\n",
      "in attempt 60 the loss was 32.999575, best 30.815898\n",
      "in attempt 61 the loss was 34.100604, best 30.815898\n",
      "in attempt 62 the loss was 31.378946, best 30.815898\n",
      "in attempt 63 the loss was 31.983685, best 30.815898\n",
      "in attempt 64 the loss was 31.421343, best 30.815898\n",
      "in attempt 65 the loss was 32.319656, best 30.815898\n",
      "in attempt 66 the loss was 34.142838, best 30.815898\n",
      "in attempt 67 the loss was 32.349125, best 30.815898\n",
      "in attempt 68 the loss was 35.250372, best 30.815898\n",
      "in attempt 69 the loss was 32.459447, best 30.815898\n",
      "in attempt 70 the loss was 33.551993, best 30.815898\n",
      "in attempt 71 the loss was 34.286858, best 30.815898\n",
      "in attempt 72 the loss was 32.844260, best 30.815898\n",
      "in attempt 73 the loss was 32.786659, best 30.815898\n",
      "in attempt 74 the loss was 33.802787, best 30.815898\n",
      "in attempt 75 the loss was 34.071676, best 30.815898\n",
      "in attempt 76 the loss was 35.747059, best 30.815898\n",
      "in attempt 77 the loss was 32.030933, best 30.815898\n",
      "in attempt 78 the loss was 32.258853, best 30.815898\n",
      "in attempt 79 the loss was 35.672814, best 30.815898\n",
      "in attempt 80 the loss was 30.582741, best 30.582741\n",
      "in attempt 81 the loss was 31.768911, best 30.582741\n",
      "in attempt 82 the loss was 32.496857, best 30.582741\n",
      "in attempt 83 the loss was 33.889537, best 30.582741\n",
      "in attempt 84 the loss was 32.466956, best 30.582741\n",
      "in attempt 85 the loss was 34.547699, best 30.582741\n",
      "in attempt 86 the loss was 32.369380, best 30.582741\n",
      "in attempt 87 the loss was 34.285533, best 30.582741\n",
      "in attempt 88 the loss was 32.733365, best 30.582741\n",
      "in attempt 89 the loss was 33.122290, best 30.582741\n",
      "in attempt 90 the loss was 35.526589, best 30.582741\n",
      "in attempt 91 the loss was 33.922144, best 30.582741\n",
      "in attempt 92 the loss was 33.038606, best 30.582741\n",
      "in attempt 93 the loss was 34.105009, best 30.582741\n",
      "in attempt 94 the loss was 34.113549, best 30.582741\n",
      "in attempt 95 the loss was 33.396279, best 30.582741\n",
      "in attempt 96 the loss was 30.165963, best 30.165963\n",
      "in attempt 97 the loss was 32.903703, best 30.165963\n",
      "in attempt 98 the loss was 32.948787, best 30.165963\n",
      "in attempt 99 the loss was 33.787953, best 30.165963\n"
     ]
    }
   ],
   "source": [
    "bestloss = float('inf')\n",
    "for num in range(100):\n",
    "    W = np.random.randn(3073, 10) * 0.0001\n",
    "    loss = np.linalg.norm(X_dev.dot(W) - y_dev_oh)\n",
    "    if (loss < bestloss):\n",
    "        bestloss = loss\n",
    "        bestW = W\n",
    "    print('in attempt %d the loss was %f, best %f' % (num, loss, bestloss))"
   ]
  },
  {
   "cell_type": "code",
   "execution_count": 58,
   "metadata": {},
   "outputs": [
    {
     "name": "stdout",
     "output_type": "stream",
     "text": [
      "Accuracy on train set:  6.6\n",
      "Accuracy on test set:  8.9\n"
     ]
    }
   ],
   "source": [
    "# How bestW perform:\n",
    "print('Accuracy on train set: ', np.sum(np.argmin(np.abs(1 - X_dev.dot(W)), axis=1) == y_dev).astype(np.float32)/y_dev.shape[0]*100)\n",
    "print('Accuracy on test set: ', np.sum(np.argmin(np.abs(1 - X_test.dot(W)), axis=1) == y_test).astype(np.float32)/y_test.shape[0]*100)"
   ]
  },
  {
   "cell_type": "markdown",
   "metadata": {},
   "source": [
    "You can clearly see that the performance is very low, almost at the random level."
   ]
  },
  {
   "cell_type": "markdown",
   "metadata": {},
   "source": [
    "## Closed-form solution\n",
    "The closed-form solution is achieved by:\n",
    "$$\\frac{\\partial\\mathcal{L}}{\\partial \\mathbf{W}}=\\frac{2}{n}\\mathbf{X}^T(\\mathbf{X}\\mathbf{W}-\\mathbf{y})=0$$\n",
    "\n",
    "$$\\Leftrightarrow\\mathbf{W}^\\ast=(\\mathbf{X}^T\\mathbf{X})^{-1}\\mathbf{X}^T\\mathbf{y}$$"
   ]
  },
  {
   "cell_type": "code",
   "execution_count": 59,
   "metadata": {},
   "outputs": [],
   "source": [
    "################################################################################\n",
    "# TODO:                                                                        #\n",
    "# Implement the closed-form solution of the weight W.                          #\n",
    "################################################################################\n",
    "W = np.dot(np.dot(np.linalg.inv(np.dot(np.transpose(X_dev), X_dev)),np.transpose(X_dev)),y_dev_oh)\n",
    "################################################################################\n",
    "#                              END OF YOUR CODE                                #\n",
    "################################################################################"
   ]
  },
  {
   "cell_type": "code",
   "execution_count": 60,
   "metadata": {},
   "outputs": [
    {
     "name": "stdout",
     "output_type": "stream",
     "text": [
      "Train set accuracy:  9.9306122449\n",
      "Test set accuracy:  10.8\n"
     ]
    }
   ],
   "source": [
    "# Check accuracy:\n",
    "print('Train set accuracy: ', np.sum(np.argmin(np.abs(1 - X_train.dot(W)), axis=1) == y_train).astype(np.float32)/y_train.shape[0]*100)\n",
    "print('Test set accuracy: ', np.sum(np.argmin(np.abs(1 - X_test.dot(W)), axis=1) == y_test).astype(np.float32)/y_test.shape[0]*100)"
   ]
  },
  {
   "cell_type": "markdown",
   "metadata": {},
   "source": [
    "Now, you can see that the performance is much better."
   ]
  },
  {
   "cell_type": "markdown",
   "metadata": {},
   "source": [
    "## Regularization\n",
    "A simple way to improve performance is to include the L2-regularization penalty.\n",
    "$$\\mathcal{L}=\\frac{1}{n}\\|\\mathbf{X}\\mathbf{W}-\\mathbf{y}\\|_F^2 +\\lambda \\|\\mathbf{W}\\|_F^2 \\qquad\\qquad(2)$$\n",
    "The closed-form solution now is: \n",
    "$$\\Leftrightarrow\\mathbf{W}^\\ast=(\\mathbf{X}^T\\mathbf{X}+\\lambda n\\mathbf{I})^{-1}\\mathbf{X}^T\\mathbf{y}$$"
   ]
  },
  {
   "cell_type": "code",
   "execution_count": 61,
   "metadata": {},
   "outputs": [],
   "source": [
    "# try several values of lambda to see how it helps:\n",
    "lambdas = [0.01, 0.1, 1, 10, 100, 1000, 10000, 100000]\n",
    "train_acc = np.zeros((len(lambdas)))\n",
    "test_acc = np.zeros((len(lambdas)))\n",
    "for i in range(len(lambdas)):\n",
    "    l = lambdas[i]\n",
    "    n,d = X_train.shape[0], X_train.shape[1]\n",
    "    ################################################################################\n",
    "    # TODO:                                                                        #\n",
    "    # Implement the closed-form solution of the weight W with regularization.      #\n",
    "    ################################################################################\n",
    "    W = np.dot(np.dot(np.linalg.inv(np.dot(np.transpose(X_dev),X_dev)+l*n*np.identity(d)),np.transpose(X_dev)),y_dev_oh)\n",
    "    ################################################################################\n",
    "    #                              END OF YOUR CODE                                #\n",
    "    ################################################################################\n",
    "    train_acc[i] = np.sum(np.argmin(np.abs(1 - X_train.dot(W)), axis=1) == y_train).astype(np.float32)/y_train.shape[0]*100\n",
    "    test_acc[i]  = np.sum(np.argmin(np.abs(1 - X_test.dot(W)), axis=1) == y_test).astype(np.float32)/y_test.shape[0]*100"
   ]
  },
  {
   "cell_type": "code",
   "execution_count": 62,
   "metadata": {},
   "outputs": [
    {
     "data": {
      "image/png": "[encoded data removed]",
      "text/plain": [
       "<matplotlib.figure.Figure at 0x1e080595d30>"
      ]
     },
     "metadata": {},
     "output_type": "display_data"
    }
   ],
   "source": [
    "plt.semilogx(lambdas, train_acc, 'r', label=\"Training accuracy\")\n",
    "plt.semilogx(lambdas, test_acc, 'g', label=\"Testing accuracy\")\n",
    "\n",
    "plt.legend()\n",
    "plt.grid(True)\n",
    "plt.show()"
   ]
  },
  {
   "cell_type": "markdown",
   "metadata": {},
   "source": [
    "**Question:** Try to explain why the performances on the training and test set have such behaviors as we change the value of $\\lambda$."
   ]
  },
  {
   "cell_type": "markdown",
   "metadata": {},
   "source": [
    "**Your answer:** At lower values of lambda, the value of lamda does not heavily affect the overall weightage of the regression while still applying enough pressure to prevent overfitting. When lambda becomes sufficiently large, the value of lambda starts to adversely affect the regression, causing noise to the parts of the regression that is useful. "
   ]
  },
  {
   "cell_type": "markdown",
   "metadata": {},
   "source": [
    "## Softmax Classifier\n",
    "\n",
    "The predicted probability for the $j$-th class given a sample vector $x$ and a weight $W$ is:\n",
    "\n",
    "$$\\displaystyle{P(y=j\\mid x)=\\frac{e^{-xw_j}}{\\sum\\limits_{c=1}^{C}e^{-xw_c}}}$$ \n",
    "\n",
    "![softmax](imgs/softmax.png \"Example of Softmax\")\n",
    "\n",
    "Your code for this section will all be written inside **classifiers/softmax.py**. \n"
   ]
  },
  {
   "cell_type": "code",
   "execution_count": 63,
   "metadata": {
    "scrolled": true
   },
   "outputs": [
    {
     "name": "stdout",
     "output_type": "stream",
     "text": [
      "loss: 2.368870\n",
      "sanity check: 2.302585\n"
     ]
    }
   ],
   "source": [
    "# First implement the naive softmax loss function with nested loops.\n",
    "# Open the file classifiers/softmax.py and implement the\n",
    "# softmax_loss_naive function.\n",
    "\n",
    "from classifiers.softmax import softmax_loss_naive\n",
    "import time\n",
    "\n",
    "# Generate a random softmax weight matrix and use it to compute the loss.\n",
    "W = np.random.randn(3073, 10) * 0.0001\n",
    "loss, grad = softmax_loss_naive(W, X_dev, y_dev, 0.0)\n",
    "\n",
    "# As a rough sanity check, our loss should be something close to -log(0.1).\n",
    "print('loss: %f' % loss)\n",
    "print('sanity check: %f' % (-np.log(0.1)))"
   ]
  },
  {
   "cell_type": "markdown",
   "metadata": {},
   "source": [
    "**Question:** Why do we expect our loss to be close to -log(0.1)? Explain briefly.**"
   ]
  },
  {
   "cell_type": "markdown",
   "metadata": {},
   "source": [
    "**Your answer:** When randomly initialising the weight, we can expect the correct class tag to be predicted on with probability 0.1, since thare are 10 class tags."
   ]
  },
  {
   "cell_type": "markdown",
   "metadata": {},
   "source": [
    "# Optimization\n",
    "\n",
    "\n",
    "## Random search"
   ]
  },
  {
   "cell_type": "code",
   "execution_count": 64,
   "metadata": {},
   "outputs": [
    {
     "name": "stdout",
     "output_type": "stream",
     "text": [
      "in attempt 0 the loss was 2.383560, best 2.383560\n",
      "in attempt 1 the loss was 2.395408, best 2.383560\n",
      "in attempt 2 the loss was 2.377576, best 2.377576\n",
      "in attempt 3 the loss was 2.363343, best 2.363343\n",
      "in attempt 4 the loss was 2.360806, best 2.360806\n",
      "in attempt 5 the loss was 2.351131, best 2.351131\n",
      "in attempt 6 the loss was 2.324973, best 2.324973\n",
      "in attempt 7 the loss was 2.370253, best 2.324973\n",
      "in attempt 8 the loss was 2.357633, best 2.324973\n",
      "in attempt 9 the loss was 2.386992, best 2.324973\n",
      "in attempt 10 the loss was 2.393193, best 2.324973\n",
      "in attempt 11 the loss was 2.414305, best 2.324973\n",
      "in attempt 12 the loss was 2.323507, best 2.323507\n",
      "in attempt 13 the loss was 2.323180, best 2.323180\n",
      "in attempt 14 the loss was 2.347758, best 2.323180\n",
      "in attempt 15 the loss was 2.355548, best 2.323180\n",
      "in attempt 16 the loss was 2.363343, best 2.323180\n",
      "in attempt 17 the loss was 2.365799, best 2.323180\n",
      "in attempt 18 the loss was 2.350407, best 2.323180\n",
      "in attempt 19 the loss was 2.354665, best 2.323180\n",
      "in attempt 20 the loss was 2.387149, best 2.323180\n",
      "in attempt 21 the loss was 2.387238, best 2.323180\n",
      "in attempt 22 the loss was 2.324719, best 2.323180\n",
      "in attempt 23 the loss was 2.383203, best 2.323180\n",
      "in attempt 24 the loss was 2.381035, best 2.323180\n",
      "in attempt 25 the loss was 2.370193, best 2.323180\n",
      "in attempt 26 the loss was 2.306046, best 2.306046\n",
      "in attempt 27 the loss was 2.388556, best 2.306046\n",
      "in attempt 28 the loss was 2.310192, best 2.306046\n",
      "in attempt 29 the loss was 2.361746, best 2.306046\n",
      "in attempt 30 the loss was 2.331207, best 2.306046\n",
      "in attempt 31 the loss was 2.403818, best 2.306046\n",
      "in attempt 32 the loss was 2.353050, best 2.306046\n",
      "in attempt 33 the loss was 2.314034, best 2.306046\n",
      "in attempt 34 the loss was 2.295204, best 2.295204\n",
      "in attempt 35 the loss was 2.322813, best 2.295204\n",
      "in attempt 36 the loss was 2.414265, best 2.295204\n",
      "in attempt 37 the loss was 2.376321, best 2.295204\n",
      "in attempt 38 the loss was 2.342354, best 2.295204\n",
      "in attempt 39 the loss was 2.391415, best 2.295204\n",
      "in attempt 40 the loss was 2.356700, best 2.295204\n",
      "in attempt 41 the loss was 2.308081, best 2.295204\n",
      "in attempt 42 the loss was 2.329097, best 2.295204\n",
      "in attempt 43 the loss was 2.360088, best 2.295204\n",
      "in attempt 44 the loss was 2.366564, best 2.295204\n",
      "in attempt 45 the loss was 2.390364, best 2.295204\n",
      "in attempt 46 the loss was 2.353942, best 2.295204\n",
      "in attempt 47 the loss was 2.352391, best 2.295204\n",
      "in attempt 48 the loss was 2.355231, best 2.295204\n",
      "in attempt 49 the loss was 2.385951, best 2.295204\n",
      "in attempt 50 the loss was 2.309311, best 2.295204\n",
      "in attempt 51 the loss was 2.336842, best 2.295204\n",
      "in attempt 52 the loss was 2.340301, best 2.295204\n",
      "in attempt 53 the loss was 2.347976, best 2.295204\n",
      "in attempt 54 the loss was 2.309876, best 2.295204\n",
      "in attempt 55 the loss was 2.342450, best 2.295204\n",
      "in attempt 56 the loss was 2.308883, best 2.295204\n",
      "in attempt 57 the loss was 2.344138, best 2.295204\n",
      "in attempt 58 the loss was 2.349070, best 2.295204\n",
      "in attempt 59 the loss was 2.406137, best 2.295204\n",
      "in attempt 60 the loss was 2.371429, best 2.295204\n",
      "in attempt 61 the loss was 2.342708, best 2.295204\n",
      "in attempt 62 the loss was 2.368328, best 2.295204\n",
      "in attempt 63 the loss was 2.370789, best 2.295204\n",
      "in attempt 64 the loss was 2.317392, best 2.295204\n",
      "in attempt 65 the loss was 2.328048, best 2.295204\n",
      "in attempt 66 the loss was 2.381301, best 2.295204\n",
      "in attempt 67 the loss was 2.388692, best 2.295204\n",
      "in attempt 68 the loss was 2.348055, best 2.295204\n",
      "in attempt 69 the loss was 2.359987, best 2.295204\n",
      "in attempt 70 the loss was 2.394118, best 2.295204\n",
      "in attempt 71 the loss was 2.352780, best 2.295204\n",
      "in attempt 72 the loss was 2.396243, best 2.295204\n",
      "in attempt 73 the loss was 2.354717, best 2.295204\n",
      "in attempt 74 the loss was 2.360713, best 2.295204\n",
      "in attempt 75 the loss was 2.375197, best 2.295204\n",
      "in attempt 76 the loss was 2.335513, best 2.295204\n",
      "in attempt 77 the loss was 2.339049, best 2.295204\n",
      "in attempt 78 the loss was 2.353198, best 2.295204\n",
      "in attempt 79 the loss was 2.303523, best 2.295204\n",
      "in attempt 80 the loss was 2.332913, best 2.295204\n",
      "in attempt 81 the loss was 2.402463, best 2.295204\n",
      "in attempt 82 the loss was 2.360900, best 2.295204\n",
      "in attempt 83 the loss was 2.338810, best 2.295204\n",
      "in attempt 84 the loss was 2.325876, best 2.295204\n",
      "in attempt 85 the loss was 2.372296, best 2.295204\n",
      "in attempt 86 the loss was 2.345751, best 2.295204\n",
      "in attempt 87 the loss was 2.311448, best 2.295204\n",
      "in attempt 88 the loss was 2.396659, best 2.295204\n",
      "in attempt 89 the loss was 2.458961, best 2.295204\n",
      "in attempt 90 the loss was 2.338014, best 2.295204\n",
      "in attempt 91 the loss was 2.417261, best 2.295204\n",
      "in attempt 92 the loss was 2.343864, best 2.295204\n",
      "in attempt 93 the loss was 2.364197, best 2.295204\n",
      "in attempt 94 the loss was 2.357849, best 2.295204\n",
      "in attempt 95 the loss was 2.387928, best 2.295204\n",
      "in attempt 96 the loss was 2.408282, best 2.295204\n",
      "in attempt 97 the loss was 2.329596, best 2.295204\n",
      "in attempt 98 the loss was 2.425605, best 2.295204\n",
      "in attempt 99 the loss was 2.425194, best 2.295204\n"
     ]
    }
   ],
   "source": [
    "bestloss = float('inf')\n",
    "for num in range(100):\n",
    "    W = np.random.randn(3073, 10) * 0.0001\n",
    "    loss, _ = softmax_loss_naive(W, X_dev, y_dev, 0.0)\n",
    "    if (loss < bestloss):\n",
    "        bestloss = loss\n",
    "        bestW = W\n",
    "    print('in attempt %d the loss was %f, best %f' % (num, loss, bestloss))"
   ]
  },
  {
   "cell_type": "code",
   "execution_count": 65,
   "metadata": {},
   "outputs": [
    {
     "name": "stdout",
     "output_type": "stream",
     "text": [
      "Accuracy on train set 0.118204\n",
      "Accuracy on test set 0.140000\n"
     ]
    }
   ],
   "source": [
    "# How bestW perform on trainset\n",
    "scores = X_train.dot(bestW)\n",
    "y_pred = np.argmax(scores, axis=1)\n",
    "print('Accuracy on train set %f' % np.mean(y_pred == y_train))\n",
    "\n",
    "# evaluate performance of test set\n",
    "scores = X_test.dot(bestW)\n",
    "y_pred = np.argmax(scores, axis=1)\n",
    "print('Accuracy on test set %f' % np.mean(y_pred == y_test))"
   ]
  },
  {
   "cell_type": "markdown",
   "metadata": {},
   "source": [
    "Compare the performance when using random search with *regression classifier* and *softmax classifier*. You can see how much useful the softmax classifier is."
   ]
  },
  {
   "cell_type": "markdown",
   "metadata": {},
   "source": [
    "## Stochastic Gradient descent\n",
    "Even though it is possible to achieve closed-form solution with softmax classifier, it would be more complicated. In fact, we could achieve very good results with gradient descent approach. Additionally, in case of very large dataset, it is impossible to load the whole dataset into the memory. Gradient descent can help to optimize the loss function in batch. \n",
    "\n",
    "$$\\mathbf{W}^{t+1}=\\mathbf{W}^{t}−\\alpha \\frac{\\partial\\mathcal{L(\\mathbf{x};\\mathbf{W}^{t})}}{\\partial\\mathbf{W}^{t}}$$\n",
    "\n",
    "Where $\\alpha$ is the learning rate, $\\mathcal{L}$ is a loss function, and $\\mathbf{x}$ is a batch of training dataset."
   ]
  },
  {
   "cell_type": "code",
   "execution_count": 66,
   "metadata": {},
   "outputs": [
    {
     "name": "stdout",
     "output_type": "stream",
     "text": [
      "numerical: -2.616375 analytic: -2.616375, relative error: 6.308866e-09\n",
      "numerical: -0.062492 analytic: -0.062492, relative error: 3.231213e-07\n",
      "numerical: 3.121154 analytic: 3.121154, relative error: 1.385135e-08\n",
      "numerical: -0.256290 analytic: -0.256290, relative error: 3.256063e-07\n",
      "numerical: -2.621146 analytic: -2.621146, relative error: 1.125653e-08\n",
      "numerical: -0.467424 analytic: -0.467424, relative error: 1.120840e-07\n",
      "numerical: -1.791801 analytic: -1.791801, relative error: 2.869607e-08\n",
      "numerical: -0.369419 analytic: -0.369419, relative error: 9.899833e-08\n",
      "numerical: 0.412374 analytic: 0.412374, relative error: 1.549016e-07\n",
      "numerical: 2.023768 analytic: 2.023767, relative error: 3.901551e-08\n",
      "numerical: -2.839343 analytic: -2.839343, relative error: 1.388966e-08\n",
      "numerical: 0.541672 analytic: 0.541672, relative error: 6.459559e-08\n",
      "numerical: 1.615042 analytic: 1.615042, relative error: 3.340447e-08\n",
      "numerical: 0.159859 analytic: 0.159859, relative error: 5.493093e-08\n",
      "numerical: -1.434674 analytic: -1.434674, relative error: 3.948211e-08\n",
      "numerical: 0.045620 analytic: 0.045620, relative error: 4.860886e-07\n",
      "numerical: 1.318890 analytic: 1.318890, relative error: 1.512131e-08\n",
      "numerical: 1.259157 analytic: 1.259157, relative error: 1.216919e-08\n",
      "numerical: -0.504650 analytic: -0.504650, relative error: 2.388065e-08\n",
      "numerical: -1.413034 analytic: -1.413034, relative error: 4.724087e-08\n"
     ]
    }
   ],
   "source": [
    "# Complete the implementation of softmax_loss_naive and implement a (naive)\n",
    "# version of the gradient that uses nested loops.\n",
    "loss, grad = softmax_loss_naive(W, X_dev, y_dev, 0.0)\n",
    "\n",
    "# Use numeric gradient checking as a debugging tool.\n",
    "# The numeric gradient should be close to the analytic gradient.\n",
    "from gradient_check import grad_check_sparse\n",
    "f = lambda w: softmax_loss_naive(w, X_dev, y_dev, 0.0)[0]\n",
    "grad_numerical = grad_check_sparse(f, W, grad, 10)\n",
    "\n",
    "# gradient check with regularization\n",
    "loss, grad = softmax_loss_naive(W, X_dev, y_dev, 1e2)\n",
    "f = lambda w: softmax_loss_naive(w, X_dev, y_dev, 1e2)[0]\n",
    "grad_numerical = grad_check_sparse(f, W, grad, 10)"
   ]
  },
  {
   "cell_type": "code",
   "execution_count": 67,
   "metadata": {},
   "outputs": [
    {
     "name": "stdout",
     "output_type": "stream",
     "text": [
      "naive loss: 2.425194e+00 computed in 0.109792s\n",
      "vectorized loss: 2.425194e+00 computed in 0.003009s\n",
      "Loss difference: 0.000000\n",
      "Gradient difference: 0.000000\n"
     ]
    }
   ],
   "source": [
    "# Now that we have a naive implementation of the softmax loss function and its gradient,\n",
    "# implement a vectorized version in softmax_loss_vectorized.\n",
    "# The two versions should compute the same results, but the vectorized version should be\n",
    "# much faster.\n",
    "tic = time.time()\n",
    "loss_naive, grad_naive = softmax_loss_naive(W, X_dev, y_dev, 0.00001)\n",
    "toc = time.time()\n",
    "print('naive loss: %e computed in %fs' % (loss_naive, toc - tic))\n",
    "\n",
    "from classifiers.softmax import softmax_loss_vectorized\n",
    "tic = time.time()\n",
    "loss_vectorized, grad_vectorized = softmax_loss_vectorized(W, X_dev, y_dev, 0.00001)\n",
    "toc = time.time()\n",
    "print('vectorized loss: %e computed in %fs' % (loss_vectorized, toc - tic))\n",
    "\n",
    "# We use the Frobenius norm to compare the two versions\n",
    "# of the gradient.\n",
    "grad_difference = np.linalg.norm(grad_naive - grad_vectorized, ord='fro')\n",
    "print('Loss difference: %f' % np.abs(loss_naive - loss_vectorized))\n",
    "print('Gradient difference: %f' % grad_difference)"
   ]
  },
  {
   "cell_type": "code",
   "execution_count": 68,
   "metadata": {},
   "outputs": [
    {
     "name": "stdout",
     "output_type": "stream",
     "text": [
      "<class 'numpy.ndarray'>\n",
      "iteration 0 / 1500: loss 769.543129\n",
      "iteration 100 / 1500: loss 282.109721\n",
      "iteration 200 / 1500: loss 104.585469\n",
      "iteration 300 / 1500: loss 39.525518\n",
      "iteration 400 / 1500: loss 15.802566\n",
      "iteration 500 / 1500: loss 7.115208\n",
      "iteration 600 / 1500: loss 3.889519\n",
      "iteration 700 / 1500: loss 2.777563\n",
      "iteration 800 / 1500: loss 2.384316\n",
      "iteration 900 / 1500: loss 2.134073\n",
      "iteration 1000 / 1500: loss 2.099744\n",
      "iteration 1100 / 1500: loss 2.062560\n",
      "iteration 1200 / 1500: loss 2.114867\n",
      "iteration 1300 / 1500: loss 2.129871\n",
      "iteration 1400 / 1500: loss 2.047271\n",
      "That took 7.935822s\n"
     ]
    }
   ],
   "source": [
    "from classifiers.linear_classifier import *\n",
    "print(type(X_train))\n",
    "classifier = Softmax()\n",
    "tic = time.time()\n",
    "loss_hist = classifier.train(X_train, y_train, learning_rate=1e-7, reg=5e4,\n",
    "                                  num_iters=1500, verbose=True)\n",
    "toc = time.time()\n",
    "print('That took %fs' % (toc - tic))"
   ]
  },
  {
   "cell_type": "code",
   "execution_count": 70,
   "metadata": {},
   "outputs": [
    {
     "name": "stdout",
     "output_type": "stream",
     "text": [
      "training accuracy: 0.329061\n",
      "validation accuracy: 0.343000\n"
     ]
    }
   ],
   "source": [
    "# Write the Softmax.predict function and evaluate the performance on both the\n",
    "# training and validation set\n",
    "y_train_pred = classifier.predict(X_train)\n",
    "print('training accuracy: %f' % (np.mean(y_train == y_train_pred), ))\n",
    "y_val_pred = classifier.predict(X_val)\n",
    "print('validation accuracy: %f' % (np.mean(y_val == y_val_pred), ))"
   ]
  },
  {
   "cell_type": "code",
   "execution_count": 71,
   "metadata": {},
   "outputs": [
    {
     "data": {
      "image/png": "[encoded data removed]",
      "text/plain": [
       "<matplotlib.figure.Figure at 0x1e080880cf8>"
      ]
     },
     "metadata": {},
     "output_type": "display_data"
    }
   ],
   "source": [
    "# A useful debugging strategy is to plot the loss as a function of\n",
    "# iteration number:\n",
    "plt.plot(loss_hist)\n",
    "plt.xlabel('Iteration number')\n",
    "plt.ylabel('Loss value')\n",
    "plt.show()"
   ]
  },
  {
   "cell_type": "code",
   "execution_count": 72,
   "metadata": {},
   "outputs": [
    {
     "name": "stdout",
     "output_type": "stream",
     "text": [
      "softmax on raw pixels final test set accuracy: 34.90\n"
     ]
    }
   ],
   "source": [
    "# evaluate on test set\n",
    "# Evaluate the best softmax on test set\n",
    "y_test_pred = classifier.predict(X_test)\n",
    "test_accuracy = np.mean(y_test == y_test_pred)\n",
    "print('softmax on raw pixels final test set accuracy: %.2f' % (100*test_accuracy, ))"
   ]
  },
  {
   "cell_type": "code",
   "execution_count": null,
   "metadata": {},
   "outputs": [],
   "source": []
  }
 ],
 "metadata": {
  "anaconda-cloud": {},
  "kernelspec": {
   "display_name": "Python [default]",
   "language": "python",
   "name": "python3"
  },
  "language_info": {
   "codemirror_mode": {
    "name": "ipython",
    "version": 3
   },
   "file_extension": ".py",
   "mimetype": "text/x-python",
   "name": "python",
   "nbconvert_exporter": "python",
   "pygments_lexer": "ipython3",
   "version": "3.6.3"
  }
 },
 "nbformat": 4,
 "nbformat_minor": 1
}
